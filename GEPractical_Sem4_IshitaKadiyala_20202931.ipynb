{
  "nbformat": 4,
  "nbformat_minor": 0,
  "metadata": {
    "colab": {
      "name": "GEPractical_Sem4_IshitaKadiyala_20202931.ipynb",
      "provenance": [],
      "authorship_tag": "ABX9TyPnWRlDl/zkCh6oU6JNRluM",
      "include_colab_link": true
    },
    "kernelspec": {
      "name": "python3",
      "display_name": "Python 3"
    },
    "language_info": {
      "name": "python"
    }
  },
  "cells": [
    {
      "cell_type": "markdown",
      "metadata": {
        "id": "view-in-github",
        "colab_type": "text"
      },
      "source": [
        "<a href=\"https://colab.research.google.com/github/ishitakadiyala/GE-Practical-SEM-4/blob/main/GEPractical_Sem4_IshitaKadiyala_20202931.ipynb\" target=\"_parent\"><img src=\"https://colab.research.google.com/assets/colab-badge.svg\" alt=\"Open In Colab\"/></a>"
      ]
    },
    {
      "cell_type": "code",
      "execution_count": 9,
      "metadata": {
        "colab": {
          "base_uri": "https://localhost:8080/"
        },
        "id": "rL7QzAZyhNJ-",
        "outputId": "5621c353-0ed9-4a32-ca56-f88275069618"
      },
      "outputs": [
        {
          "output_type": "stream",
          "name": "stdout",
          "text": [
            "Enter plaintext: Ishita\n",
            "Enter key: 3\n",
            "Encrypted text: Lvklwd\n"
          ]
        }
      ],
      "source": [
        "# Sem 4 Practical\n",
        "# Ishita Kadiyala 20202931\n",
        "\n",
        "# Encryption Ceaser cipher\n",
        "\n",
        "word=input(\"Enter plaintext: \")\n",
        "key=int(input(\"Enter key: \"))\n",
        "nwword=\"\"\n",
        "ascii=nwa=0\n",
        "for i in word:\n",
        "    if  i.isupper():\n",
        "        ascii=ord(i)\n",
        "        nwa=(ascii+key-65)%26+65\n",
        "    if i.islower():\n",
        "        ascii=ord(i)\n",
        "        nwa=(ascii+key-97)%26+97\n",
        "    nwword+=chr(nwa)\n",
        "       \n",
        "print(\"Encrypted text:\",nwword)"
      ]
    },
    {
      "cell_type": "code",
      "source": [
        "# Decryption Ceaser cipher\n",
        "\n",
        "word=input(\"Enter encrypted text: \")\n",
        "key=int(input(\"Enter key: \"))\n",
        "nwword=\"\"\n",
        "ascii=nwa=0\n",
        "for i in word:\n",
        "    if  i.isupper():\n",
        "        ascii=ord(i)\n",
        "        nwa=(ascii-key-65)%26+65\n",
        "    if i.islower():\n",
        "        ascii=ord(i)\n",
        "        nwa=(ascii-key-97)%26+97\n",
        "    nwword+=chr(nwa)\n",
        "       \n",
        "print(\"Decrypted text:\",nwword)"
      ],
      "metadata": {
        "colab": {
          "base_uri": "https://localhost:8080/"
        },
        "id": "WeMfO8othWes",
        "outputId": "3126fc6a-6ccb-4701-bf80-a684312eefb6"
      },
      "execution_count": 4,
      "outputs": [
        {
          "output_type": "stream",
          "name": "stdout",
          "text": [
            "Enter encrypted text: Lvklwd\n",
            "Enter key: 3\n",
            "Decrypted text: Ishita\n"
          ]
        }
      ]
    },
    {
      "cell_type": "code",
      "source": [
        "# Rail fence cipher encryption\n",
        "\n",
        "s=input(\"Enter a string: \")\n",
        "k=int(input(\"Enter key: \"))\n",
        "enc=[[\" \" for i in range(len(s))] for j in range(k)]\n",
        "print(enc)\n",
        "flag=row=0\n",
        "for i in range(len(s)):\n",
        "\tenc[row][i]=s[i]\n",
        "\tif row==0:\n",
        "\t\tflag=0\n",
        "\telif row==k-1:\n",
        "\t\tflag=1\n",
        "\tif flag==0:\n",
        "\t\trow+=1\n",
        "\telse:\n",
        "\t\trow-=1\n",
        "for i in range(k):\n",
        "\tprint(\"\".join(enc[i]))\n",
        "ct=[]\n",
        "for i in range(k):\n",
        "    for j in range(len(s)):\n",
        "        if enc[i][j]!=' ':\n",
        "            ct.append(enc[i][j])\n",
        "cipher=\"\".join(ct)\n",
        "print(\"Encrypted text:\",cipher)"
      ],
      "metadata": {
        "colab": {
          "base_uri": "https://localhost:8080/"
        },
        "id": "XCbFcdJQhdDN",
        "outputId": "cd102168-8dc3-4907-a404-c9591958b3cb"
      },
      "execution_count": 5,
      "outputs": [
        {
          "output_type": "stream",
          "name": "stdout",
          "text": [
            "Enter a string: ilikemangoes\n",
            "Enter key: 3\n",
            "[[' ', ' ', ' ', ' ', ' ', ' ', ' ', ' ', ' ', ' ', ' ', ' '], [' ', ' ', ' ', ' ', ' ', ' ', ' ', ' ', ' ', ' ', ' ', ' '], [' ', ' ', ' ', ' ', ' ', ' ', ' ', ' ', ' ', ' ', ' ', ' ']]\n",
            "i   e   g   \n",
            " l k m n o s\n",
            "  i   a   e \n",
            "Encrypted text: ieglkmnosiae\n"
          ]
        }
      ]
    },
    {
      "cell_type": "code",
      "source": [
        "## Rail fence cipher decryption\n",
        "\n",
        "cipher=input(\"Enter encrypted text: \")\n",
        "key=int(input(\"Enter key: \"))\n",
        "rail = [['\\n' for i in range(len(cipher))]\n",
        "                  for j in range(key)]\n",
        "dir_down = None\n",
        "row, col = 0, 0\n",
        "for i in range(len(cipher)):\n",
        "    if row == 0:\n",
        "        dir_down = True\n",
        "    if row == key - 1:\n",
        "        dir_down = False\n",
        "    rail[row][col] = '*'\n",
        "    col += 1\n",
        "    if dir_down:\n",
        "        row += 1\n",
        "    else:\n",
        "        row -= 1\n",
        "index = 0\n",
        "for i in range(key):\n",
        "    for j in range(len(cipher)):\n",
        "        if ((rail[i][j] == '*') and\n",
        "            (index < len(cipher))):\n",
        "            rail[i][j] = cipher[index]\n",
        "            index += 1\n",
        "result = \"\"\n",
        "row=col=0\n",
        "for i in range(len(cipher)):\n",
        "    if row == 0:\n",
        "        dir_down = True\n",
        "    if row == key-1:\n",
        "        dir_down = False\n",
        "    if (rail[row][col] != '*'):\n",
        "        result+=(rail[row][col])\n",
        "        col += 1\n",
        "    if dir_down:\n",
        "        row += 1\n",
        "    else:\n",
        "        row -= 1\n",
        "print(\"Decrypted text:\",result)"
      ],
      "metadata": {
        "colab": {
          "base_uri": "https://localhost:8080/"
        },
        "id": "t-g0iA6Xl15_",
        "outputId": "e842fe75-619a-497a-c999-217c2cf48e98"
      },
      "execution_count": 6,
      "outputs": [
        {
          "output_type": "stream",
          "name": "stdout",
          "text": [
            "Enter encrypted text: ieglkmnosiae\n",
            "Enter key: 3\n",
            "Decrypted text: ilikemangoes\n"
          ]
        }
      ]
    }
  ]
}